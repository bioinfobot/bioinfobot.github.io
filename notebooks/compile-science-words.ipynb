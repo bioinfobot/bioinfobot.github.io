{
 "cells": [
  {
   "cell_type": "code",
   "execution_count": 45,
   "metadata": {},
   "outputs": [],
   "source": [
    "# Standard library.\n",
    "import urllib.request\n",
    "import gzip\n",
    "import tarfile\n",
    "import os\n",
    "\n",
    "# External library.\n",
    "import wget"
   ]
  },
  {
   "cell_type": "markdown",
   "metadata": {},
   "source": [
    "## Download all the manuscripts from PMC"
   ]
  },
  {
   "cell_type": "code",
   "execution_count": 37,
   "metadata": {},
   "outputs": [
    {
     "name": "stdout",
     "output_type": "stream",
     "text": [
      "/home/rohit/Downloads/pmc\n"
     ]
    }
   ],
   "source": [
    "cd ~/Downloads/pmc"
   ]
  },
  {
   "cell_type": "code",
   "execution_count": 42,
   "metadata": {},
   "outputs": [],
   "source": [
    "# List of files in pmc as of 27 Sep 2018\n",
    "# links = ['ftp://ftp.ncbi.nlm.nih.gov/pub/pmc/manuscript/PMC001XXXXXX.txt.tar.gz',\n",
    "#          'ftp://ftp.ncbi.nlm.nih.gov/pub/pmc/manuscript/PMC002XXXXXX.txt.tar.gz',\n",
    "#          'ftp://ftp.ncbi.nlm.nih.gov/pub/pmc/manuscript/PMC003XXXXXX.txt.tar.gz',\n",
    "#          'ftp://ftp.ncbi.nlm.nih.gov/pub/pmc/manuscript/PMC004XXXXXX.txt.tar.gz',\n",
    "#          'ftp://ftp.ncbi.nlm.nih.gov/pub/pmc/manuscript/PMC005XXXXXX.txt.tar.gz',\n",
    "#          'ftp://ftp.ncbi.nlm.nih.gov/pub/pmc/manuscript/PMC006XXXXXX.txt.tar.gz']\n",
    "# for link in links:\n",
    "#     wget.download(link)\n"
   ]
  },
  {
   "cell_type": "markdown",
   "metadata": {},
   "source": [
    "## Untar the downloaded files in the current directory"
   ]
  },
  {
   "cell_type": "code",
   "execution_count": 50,
   "metadata": {},
   "outputs": [],
   "source": [
    "# Untar files in the current directory.\n",
    "# files = os.listdir()\n",
    "# for file in files:\n",
    "#     tar = tarfile.open(file, \"r:gz\")\n",
    "#     tar.extractall()\n",
    "#     tar.close()"
   ]
  },
  {
   "cell_type": "code",
   "execution_count": 32,
   "metadata": {},
   "outputs": [
    {
     "name": "stdout",
     "output_type": "stream",
     "text": [
      "0928\n"
     ]
    }
   ],
   "source": []
  },
  {
   "cell_type": "code",
   "execution_count": null,
   "metadata": {},
   "outputs": [],
   "source": []
  }
 ],
 "metadata": {
  "kernelspec": {
   "display_name": "Python 3",
   "language": "python",
   "name": "python3"
  },
  "language_info": {
   "codemirror_mode": {
    "name": "ipython",
    "version": 3
   },
   "file_extension": ".py",
   "mimetype": "text/x-python",
   "name": "python",
   "nbconvert_exporter": "python",
   "pygments_lexer": "ipython3",
   "version": "3.5.2"
  }
 },
 "nbformat": 4,
 "nbformat_minor": 2
}
